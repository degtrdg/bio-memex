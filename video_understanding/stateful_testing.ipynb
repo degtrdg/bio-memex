{
 "cells": [
  {
   "cell_type": "code",
   "execution_count": 1,
   "metadata": {},
   "outputs": [
    {
     "name": "stdout",
     "output_type": "stream",
     "text": [
      "Found 2932 images in videos/full_fps\n",
      "Will process in batches of 5\n",
      "Total batches: 586\n"
     ]
    }
   ],
   "source": [
    "# STATEFUL LAB COPILOT TESTING\n",
    "from video_understanding.tester import StatefulTester, process_all_batches\n",
    "\n",
    "# Initialize tester - UPDATE THIS PATH TO YOUR IMAGES FOLDER\n",
    "images_folder = \"videos/full_fps\"  # CHANGE THIS\n",
    "batch_size = 5\n",
    "\n",
    "tester = StatefulTester(images_folder, batch_size)"
   ]
  },
  {
   "cell_type": "code",
   "execution_count": 4,
   "metadata": {},
   "outputs": [
    {
     "name": "stdout",
     "output_type": "stream",
     "text": [
      "\n",
      "=== BATCH 2 ===\n",
      "Processing files: ['frame_00005.png', 'frame_00006.png', 'frame_00007.png', 'frame_00008.png', 'frame_00009.png']\n",
      "Time taken to create image blobs: 0.007929332999992766 seconds\n",
      "Time taken to generate response: 13.094965833999595 seconds\n"
     ]
    }
   ],
   "source": [
    "output = tester.process_current_batch()"
   ]
  },
  {
   "cell_type": "code",
   "execution_count": 3,
   "metadata": {},
   "outputs": [],
   "source": [
    "with open(\"output.json\", \"w\") as f:\n",
    "    f.write(output.model_dump_json())"
   ]
  },
  {
   "cell_type": "code",
   "execution_count": null,
   "metadata": {},
   "outputs": [],
   "source": [
    "# Process all remaining batches at once\n",
    "# process_all_batches(tester)"
   ]
  },
  {
   "cell_type": "code",
   "execution_count": null,
   "metadata": {},
   "outputs": [],
   "source": [
    "# Keep running this cell to process more batches one by one\n",
    "if 'tester' in locals() and tester.has_next_batch():\n",
    "    result = tester.process_current_batch()\n",
    "    tester.print_current_state()\n",
    "else:\n",
    "    print(\"🎉 All batches processed! (or tester not initialized)\")"
   ]
  },
  {
   "cell_type": "code",
   "execution_count": null,
   "metadata": {},
   "outputs": [],
   "source": [
    "# Process next batch (state carries forward automatically)\n",
    "# result = tester.process_current_batch()\n",
    "# tester.print_current_state()"
   ]
  },
  {
   "cell_type": "code",
   "execution_count": null,
   "metadata": {},
   "outputs": [],
   "source": [
    "# Process first batch\n",
    "# result = tester.process_current_batch()\n",
    "# tester.print_current_state()"
   ]
  }
 ],
 "metadata": {
  "kernelspec": {
   "display_name": ".venv",
   "language": "python",
   "name": "python3"
  },
  "language_info": {
   "codemirror_mode": {
    "name": "ipython",
    "version": 3
   },
   "file_extension": ".py",
   "mimetype": "text/x-python",
   "name": "python",
   "nbconvert_exporter": "python",
   "pygments_lexer": "ipython3",
   "version": "3.10.11"
  }
 },
 "nbformat": 4,
 "nbformat_minor": 4
}
