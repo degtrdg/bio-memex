{
 "cells": [
  {
   "cell_type": "code",
   "execution_count": 1,
   "metadata": {},
   "outputs": [
    {
     "name": "stdout",
     "output_type": "stream",
     "text": [
      "Found 2833 total images, downsampled to 567 (every 5)\n",
      "Will process in batches of 70\n",
      "Total batches: 8\n",
      "Starting from batch: 0\n"
     ]
    }
   ],
   "source": [
    "# STATEFUL LAB COPILOT TESTING\n",
    "from video_understanding.tester import StatefulTester\n",
    "\n",
    "# Initialize tester - UPDATE THIS PATH TO YOUR IMAGES FOLDER\n",
    "images_folder = \"videos/full_fps\"  # CHANGE THIS\n",
    "batch_size = 70\n",
    "\n",
    "tester = StatefulTester(images_folder, batch_size)"
   ]
  },
  {
   "cell_type": "code",
   "execution_count": 3,
   "metadata": {},
   "outputs": [
    {
     "name": "stdout",
     "output_type": "stream",
     "text": [
      "\n",
      "=== BATCH 2 ===\n",
      "Processing files: ['frame_00449.png', 'frame_00454.png', 'frame_00459.png', 'frame_00464.png', 'frame_00469.png', 'frame_00474.png', 'frame_00479.png', 'frame_00484.png', 'frame_00489.png', 'frame_00494.png', 'frame_00499.png', 'frame_00504.png', 'frame_00509.png', 'frame_00514.png', 'frame_00519.png', 'frame_00524.png', 'frame_00529.png', 'frame_00534.png', 'frame_00539.png', 'frame_00544.png', 'frame_00549.png', 'frame_00554.png', 'frame_00559.png', 'frame_00564.png', 'frame_00569.png', 'frame_00574.png', 'frame_00579.png', 'frame_00584.png', 'frame_00589.png', 'frame_00594.png', 'frame_00599.png', 'frame_00604.png', 'frame_00609.png', 'frame_00614.png', 'frame_00619.png', 'frame_00624.png', 'frame_00629.png', 'frame_00634.png', 'frame_00639.png', 'frame_00644.png', 'frame_00649.png', 'frame_00654.png', 'frame_00659.png', 'frame_00664.png', 'frame_00669.png', 'frame_00674.png', 'frame_00679.png', 'frame_00684.png', 'frame_00689.png', 'frame_00694.png', 'frame_00699.png', 'frame_00704.png', 'frame_00709.png', 'frame_00714.png', 'frame_00719.png', 'frame_00724.png', 'frame_00729.png', 'frame_00734.png', 'frame_00739.png', 'frame_00744.png', 'frame_00749.png', 'frame_00754.png', 'frame_00759.png', 'frame_00764.png', 'frame_00769.png', 'frame_00774.png', 'frame_00779.png', 'frame_00784.png', 'frame_00789.png', 'frame_00794.png']\n",
      "Total image bytes in batch: 210855147 bytes\n",
      "  frame_00449.png: 3032015 bytes\n",
      "  frame_00454.png: 3161961 bytes\n",
      "  frame_00459.png: 3092086 bytes\n",
      "  frame_00464.png: 2991849 bytes\n",
      "  frame_00469.png: 2974823 bytes\n",
      "  frame_00474.png: 3012258 bytes\n",
      "  frame_00479.png: 3065976 bytes\n",
      "  frame_00484.png: 2997057 bytes\n",
      "  frame_00489.png: 3046202 bytes\n",
      "  frame_00494.png: 3027506 bytes\n",
      "  frame_00499.png: 2941512 bytes\n",
      "  frame_00504.png: 2849339 bytes\n",
      "  frame_00509.png: 2721238 bytes\n",
      "  frame_00514.png: 2751155 bytes\n",
      "  frame_00519.png: 2736759 bytes\n",
      "  frame_00524.png: 2625005 bytes\n",
      "  frame_00529.png: 2622830 bytes\n",
      "  frame_00534.png: 2667690 bytes\n",
      "  frame_00539.png: 2628803 bytes\n",
      "  frame_00544.png: 2617973 bytes\n",
      "  frame_00549.png: 2644713 bytes\n",
      "  frame_00554.png: 2620288 bytes\n",
      "  frame_00559.png: 2622560 bytes\n",
      "  frame_00564.png: 2672175 bytes\n",
      "  frame_00569.png: 2674388 bytes\n",
      "  frame_00574.png: 2764856 bytes\n",
      "  frame_00579.png: 2757574 bytes\n",
      "  frame_00584.png: 2943405 bytes\n",
      "  frame_00589.png: 3010375 bytes\n",
      "  frame_00594.png: 3112306 bytes\n",
      "  frame_00599.png: 3089651 bytes\n",
      "  frame_00604.png: 3290396 bytes\n",
      "  frame_00609.png: 3400567 bytes\n",
      "  frame_00614.png: 3322710 bytes\n",
      "  frame_00619.png: 3286489 bytes\n",
      "  frame_00624.png: 3327103 bytes\n",
      "  frame_00629.png: 3335211 bytes\n",
      "  frame_00634.png: 3356486 bytes\n",
      "  frame_00639.png: 3297445 bytes\n",
      "  frame_00644.png: 3322967 bytes\n",
      "  frame_00649.png: 3252443 bytes\n",
      "  frame_00654.png: 3315656 bytes\n",
      "  frame_00659.png: 3224488 bytes\n",
      "  frame_00664.png: 3248721 bytes\n",
      "  frame_00669.png: 3276145 bytes\n",
      "  frame_00674.png: 3253135 bytes\n",
      "  frame_00679.png: 3220376 bytes\n",
      "  frame_00684.png: 3216564 bytes\n",
      "  frame_00689.png: 3173960 bytes\n",
      "  frame_00694.png: 3166519 bytes\n",
      "  frame_00699.png: 3170046 bytes\n",
      "  frame_00704.png: 3124931 bytes\n",
      "  frame_00709.png: 2878120 bytes\n",
      "  frame_00714.png: 3149463 bytes\n",
      "  frame_00719.png: 3133594 bytes\n",
      "  frame_00724.png: 3149241 bytes\n",
      "  frame_00729.png: 3126047 bytes\n",
      "  frame_00734.png: 3102606 bytes\n",
      "  frame_00739.png: 3106626 bytes\n",
      "  frame_00744.png: 3026987 bytes\n",
      "  frame_00749.png: 2974029 bytes\n",
      "  frame_00754.png: 2958918 bytes\n",
      "  frame_00759.png: 2907813 bytes\n",
      "  frame_00764.png: 2934507 bytes\n",
      "  frame_00769.png: 2934782 bytes\n",
      "  frame_00774.png: 2928751 bytes\n",
      "  frame_00779.png: 2963953 bytes\n",
      "  frame_00784.png: 2834527 bytes\n",
      "  frame_00789.png: 2852712 bytes\n",
      "  frame_00794.png: 2833785 bytes\n",
      "Time taken to create image blobs: 0.09321524999904796 seconds\n",
      "Prompt saved to prompt.txt\n",
      "Prompt length: 3231 characters\n",
      "total_tokens=18874 cached_content_token_count=None\n",
      "cache_tokens_details=None cached_content_token_count=None candidates_token_count=291 candidates_tokens_details=None prompt_token_count=18874 prompt_tokens_details=[ModalityTokenCount(modality=<MediaModality.TEXT: 'TEXT'>, token_count=814), ModalityTokenCount(modality=<MediaModality.IMAGE: 'IMAGE'>, token_count=18060)] thoughts_token_count=1011 tool_use_prompt_token_count=None tool_use_prompt_tokens_details=None total_token_count=20176 traffic_type=None\n",
      "Time taken to generate response: 99.2317692079996 seconds\n",
      "Cached state to batch_cache/batch_001_state.json\n",
      "Created GIFs: batch_cache/current_batch.gif and batch_cache/batch_001_movie.gif (70 frames)\n",
      "Synchronized files saved: current_batch.gif, current_prompt.txt, current_output.json\n"
     ]
    }
   ],
   "source": [
    "output = tester.process_current_batch()\n",
    "with open(\"output.json\", \"w\") as f:\n",
    "    f.write(output.model_dump_json())"
   ]
  },
  {
   "cell_type": "code",
   "execution_count": null,
   "metadata": {},
   "outputs": [],
   "source": [
    "# Process all remaining batches at once\n",
    "# process_all_batches(tester)"
   ]
  },
  {
   "cell_type": "code",
   "execution_count": null,
   "metadata": {},
   "outputs": [],
   "source": [
    "# Keep running this cell to process more batches one by one\n",
    "if 'tester' in locals() and tester.has_next_batch():\n",
    "    result = tester.process_current_batch()\n",
    "    tester.print_current_state()\n",
    "else:\n",
    "    print(\"🎉 All batches processed! (or tester not initialized)\")"
   ]
  },
  {
   "cell_type": "code",
   "execution_count": null,
   "metadata": {},
   "outputs": [],
   "source": [
    "# Process next batch (state carries forward automatically)\n",
    "# result = tester.process_current_batch()\n",
    "# tester.print_current_state()"
   ]
  },
  {
   "cell_type": "code",
   "execution_count": null,
   "metadata": {},
   "outputs": [],
   "source": [
    "# Process first batch\n",
    "# result = tester.process_current_batch()\n",
    "# tester.print_current_state()"
   ]
  }
 ],
 "metadata": {
  "kernelspec": {
   "display_name": ".venv",
   "language": "python",
   "name": "python3"
  },
  "language_info": {
   "codemirror_mode": {
    "name": "ipython",
    "version": 3
   },
   "file_extension": ".py",
   "mimetype": "text/x-python",
   "name": "python",
   "nbconvert_exporter": "python",
   "pygments_lexer": "ipython3",
   "version": "3.10.11"
  }
 },
 "nbformat": 4,
 "nbformat_minor": 4
}
